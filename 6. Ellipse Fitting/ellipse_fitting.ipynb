{
 "cells": [
  {
   "cell_type": "markdown",
   "id": "39dbaabf",
   "metadata": {},
   "source": [
    "# Ellipse Fitting"
   ]
  },
  {
   "cell_type": "markdown",
   "id": "27f80dab",
   "metadata": {
    "vscode": {
     "languageId": "plaintext"
    }
   },
   "source": [
    "## 1) We extract the pixel coordinates of the droplet contour"
   ]
  },
  {
   "cell_type": "markdown",
   "id": "f883d336",
   "metadata": {},
   "source": [
    "We start by extracting the coordinates of the contour of the droplet.\n",
    "\n",
    "To do this, we use one of the models we trained to generate a mask for a given image, then we extract the coordinates from that mask."
   ]
  },
  {
   "cell_type": "code",
   "execution_count": 28,
   "id": "d4567c04",
   "metadata": {},
   "outputs": [
    {
     "name": "stdout",
     "output_type": "stream",
     "text": [
      "Loaded mask: frame_000.png, Droplet pixels: 83754\n",
      "Sample coordinates: [[360  87]\n",
      " [361  87]\n",
      " [362  87]\n",
      " [363  87]\n",
      " [364  87]]\n"
     ]
    }
   ],
   "source": [
    "import os\n",
    "import numpy as np\n",
    "import cv2\n",
    "\n",
    "# Directory with droplet masks (binary: 0 = background, 255 = droplet)\n",
    "droplet_mask_dir = '../3. Segmentation and Detection Models/U-Net/droplet_unet'\n",
    "\n",
    "# Pick a mask (example: first one)\n",
    "mask_filename = sorted(os.listdir(droplet_mask_dir))[0]  # or loop over all\n",
    "mask_path = os.path.join(droplet_mask_dir, mask_filename)\n",
    "\n",
    "# Load binary droplet mask\n",
    "mask = cv2.imread(mask_path, cv2.IMREAD_GRAYSCALE)\n",
    "\n",
    "# Extract pixel coordinates of the droplet (where pixel == 255)\n",
    "coords = np.column_stack(np.where(mask == 255))  # shape: (N, 2) → (y, x)\n",
    "\n",
    "# Optional: convert (y, x) to (x, y) for geometric operations\n",
    "coords = coords[:, [1, 0]]  # Now coords = (x, y)\n",
    "\n",
    "# Print a few coordinates\n",
    "print(f\"Loaded mask: {mask_filename}, Droplet pixels: {len(coords)}\")\n",
    "print(\"Sample coordinates:\", coords[:5])\n"
   ]
  },
  {
   "cell_type": "markdown",
   "id": "19cecd0b",
   "metadata": {},
   "source": [
    "## Compute covariance matrix"
   ]
  },
  {
   "cell_type": "markdown",
   "id": "5b0e2c17",
   "metadata": {},
   "source": [
    "This gives us the spread and orientation of the droplet shape"
   ]
  },
  {
   "cell_type": "code",
   "execution_count": null,
   "id": "6dc5d154",
   "metadata": {},
   "outputs": [
    {
     "name": "stdout",
     "output_type": "stream",
     "text": [
      "Covariance Matrix:\n",
      "[[8857.92364424   22.1654505 ]\n",
      " [  22.1654505  5150.98254362]]\n"
     ]
    }
   ],
   "source": [
    "import numpy as np\n",
    "\n",
    "# coords: (N, 2) array of (x, y) pixel positions\n",
    "\n",
    "# Step 1: Center the coordinates (subtract the mean)\n",
    "mean = np.mean(coords, axis=0)  # (x_mean, y_mean)\n",
    "centered_coords = coords - mean  # each point minus the centroid\n",
    "\n",
    "# Step 2: Compute the 2x2 covariance matrix\n",
    "cov_matrix = np.cov(centered_coords.T)  # Transpose to shape (2, N)\n",
    "\n",
    "print(\"Covariance Matrix:\")\n",
    "print(cov_matrix)\n"
   ]
  },
  {
   "cell_type": "markdown",
   "id": "19fd886c",
   "metadata": {},
   "source": [
    "## Compute eigen values"
   ]
  },
  {
   "cell_type": "code",
   "execution_count": 30,
   "id": "09100891",
   "metadata": {},
   "outputs": [
    {
     "name": "stdout",
     "output_type": "stream",
     "text": [
      "Major Axis Length: 188.23449393340982\n",
      "Minor Axis Length: 143.538845073603\n",
      "Orientation Angle (degrees): -179.657419367333\n"
     ]
    }
   ],
   "source": [
    " # Assuming `cov_matrix` is already computed\n",
    "eigenvalues, eigenvectors = np.linalg.eigh(cov_matrix)\n",
    "\n",
    "# Sort eigenvalues and eigenvectors in descending order\n",
    "order = np.argsort(eigenvalues)[::-1]\n",
    "eigenvalues = eigenvalues[order]\n",
    "eigenvectors = eigenvectors[:, order]\n",
    "\n",
    "# Ellipse parameters\n",
    "major_axis_length = 2 * np.sqrt(eigenvalues[0])  # Scaling factor (optional)\n",
    "minor_axis_length = 2 * np.sqrt(eigenvalues[1])\n",
    "angle_rad = np.arctan2(eigenvectors[1, 0], eigenvectors[0, 0])  # angle of major axis\n",
    "angle_deg = np.degrees(angle_rad)\n",
    "\n",
    "print(\"Major Axis Length:\", major_axis_length)\n",
    "print(\"Minor Axis Length:\", minor_axis_length)\n",
    "print(\"Orientation Angle (degrees):\", angle_deg)\n"
   ]
  },
  {
   "cell_type": "markdown",
   "id": "3b3cfe8b",
   "metadata": {},
   "source": [
    "## Estimate contact angle"
   ]
  },
  {
   "cell_type": "code",
   "execution_count": 31,
   "id": "ce997adf",
   "metadata": {},
   "outputs": [
    {
     "name": "stdout",
     "output_type": "stream",
     "text": [
      "Estimated Contact Angle: 74.65 degrees\n"
     ]
    }
   ],
   "source": [
    "import numpy as np\n",
    "\n",
    "# Use major/minor axis lengths from previous step\n",
    "r = major_axis_length / 2  # base radius\n",
    "h = minor_axis_length / 2  # droplet height\n",
    "\n",
    "# Estimate radius of curvature\n",
    "R = (r**2 + h**2) / (2 * h)\n",
    "\n",
    "# Estimate contact angle in radians\n",
    "theta_rad = np.arccos((R - h) / R)\n",
    "\n",
    "# Convert to degrees\n",
    "theta_deg = np.degrees(theta_rad)\n",
    "\n",
    "print(f\"Estimated Contact Angle: {theta_deg:.2f} degrees\")\n"
   ]
  }
 ],
 "metadata": {
  "kernelspec": {
   "display_name": ".venv",
   "language": "python",
   "name": "python3"
  },
  "language_info": {
   "codemirror_mode": {
    "name": "ipython",
    "version": 3
   },
   "file_extension": ".py",
   "mimetype": "text/x-python",
   "name": "python",
   "nbconvert_exporter": "python",
   "pygments_lexer": "ipython3",
   "version": "3.11.8"
  }
 },
 "nbformat": 4,
 "nbformat_minor": 5
}
