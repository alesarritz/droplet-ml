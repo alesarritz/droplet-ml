{
  "cells": [
    {
      "cell_type": "markdown",
      "id": "b32f3bbf",
      "metadata": {
        "id": "b32f3bbf"
      },
      "source": [
        "# CNN-based Regressor model\n",
        "The goal is to train and evaluate a model that, given a droplets' segmentation mask, predicts the following statistics:\n",
        "- left contact angle\n",
        "- right contact angle\n",
        "- volume\n",
        "- ellipse xc (x coordinate of the center of the ellipse)\n",
        "- ellipse yc (y coordinate of the center of the ellipse)\n",
        "- ellipse a (half the length of the major axis of the ellipse)\n",
        "- ellipse b (half the length of the minor axis of the ellipse)\n",
        "- ellipse theta (rotation angle of the ellipse (in radians), counter-clockwise from the x-axis to the ellipse’s major axis)\n",
        "- bbox x (x coordinate of the left bottom vertex of the bounding box)\n",
        "- bbox y (y coordinate of the left bottom vertex of the bounding box)\n",
        "- bbox w (width of the bounding box)\n",
        "- bbox h (height of the bounding box)"
      ]
    },
    {
      "cell_type": "markdown",
      "id": "2c687c9a",
      "metadata": {
        "id": "2c687c9a"
      },
      "source": [
        "## Defining the dataset"
      ]
    },
    {
      "cell_type": "code",
      "execution_count": null,
      "id": "cd9e3200",
      "metadata": {
        "id": "cd9e3200"
      },
      "outputs": [],
      "source": [
        "import os\n",
        "import pandas as pd\n",
        "import torch\n",
        "from torch.utils.data import Dataset, DataLoader\n",
        "from PIL import Image\n",
        "import numpy as np\n",
        "import torchvision.transforms as transforms\n",
        "\n",
        "MASK_DIR = \"../3. Segmentation and Detection Models/droplet_masks\"\n",
        "REGRESSION_INFO_PATH = \"../5. Robust Estimation and Evaluation Methods/analysis/droplet_analysis.csv\"\n",
        "\n",
        "transform = transforms.Compose([\n",
        "    transforms.RandomRotation(15),\n",
        "    transforms.RandomHorizontalFlip(),\n",
        "    transforms.Resize((180, 240)), # the original images from the video are 720x540, and 180x240 preserves the aspect ratio (4:3)\n",
        "    transforms.ToTensor()\n",
        "])\n",
        "\n",
        "class DropletRegressionDataset(Dataset):\n",
        "    def __init__(self, mask_dir, df, scaled_labels, transform=None):\n",
        "        self.mask_dir = mask_dir\n",
        "        self.df = df.reset_index(drop=True)  # ensure indexing matches scaled labels\n",
        "        self.scaled_labels = scaled_labels\n",
        "        self.transform = transform\n",
        "\n",
        "    def __len__(self):\n",
        "        return len(self.df)\n",
        "\n",
        "    def __getitem__(self, idx):\n",
        "        frame_code = int(self.df.iloc[idx][\"Frame\"])\n",
        "        frame_code_str = f\"{frame_code:03d}\"\n",
        "        mask_path = os.path.join(self.mask_dir, f\"frame_{frame_code_str}_mask.png\")\n",
        "\n",
        "        mask = Image.open(mask_path).convert(\"L\")\n",
        "        if self.transform:\n",
        "            mask = self.transform(mask)\n",
        "        else:\n",
        "            mask = torch.tensor(np.array(mask), dtype=torch.float32).unsqueeze(0) / 255.0\n",
        "\n",
        "        label = self.scaled_labels[idx]  # already scaled\n",
        "        return mask, torch.tensor(label, dtype=torch.float32)\n"
      ]
    },
    {
      "cell_type": "code",
      "execution_count": 4,
      "id": "LCPQMMH7UeLR",
      "metadata": {
        "id": "LCPQMMH7UeLR"
      },
      "outputs": [],
      "source": [
        "from sklearn.preprocessing import StandardScaler\n",
        "\n",
        "df = pd.read_csv(REGRESSION_INFO_PATH)\n",
        "df.drop(df[df.Valid == 'False'].index, inplace=True) # drop not valid rows\n",
        "df = df.drop(columns=[\"Volume_Loss\", \"Valid\"]).dropna() # remove unneeded columns\n",
        "labels_np = df.iloc[:, 1:].values  # exclude Frame column\n",
        "\n",
        "# Normalize labels\n",
        "scaler = StandardScaler()\n",
        "scaled_labels = scaler.fit_transform(labels_np)"
      ]
    },
    {
      "cell_type": "code",
      "execution_count": 5,
      "id": "9fd8e7b4",
      "metadata": {
        "colab": {
          "base_uri": "https://localhost:8080/"
        },
        "id": "9fd8e7b4",
        "outputId": "4e005832-dff7-42bb-c8bc-41e2b2a0e946"
      },
      "outputs": [
        {
          "name": "stdout",
          "output_type": "stream",
          "text": [
            "Masks shape: torch.Size([4, 1, 180, 240])\n",
            "Targets shape: torch.Size([4, 12])\n",
            "First sample targets:\n",
            " tensor([-0.3922, -0.4431, -0.6697, -0.5119,  1.0932, -0.3351, -0.4979, -0.0034,\n",
            "        -0.2107,  0.9746, -0.3572, -0.9746])\n"
          ]
        }
      ],
      "source": [
        "dataset = DropletRegressionDataset(MASK_DIR, df, scaled_labels, transform)\n",
        "\n",
        "# Create DataLoader for testing\n",
        "dataloader = DataLoader(dataset, batch_size=4, shuffle=True)\n",
        "\n",
        "# Fetch a single batch\n",
        "masks, targets = next(iter(dataloader))\n",
        "\n",
        "# Display some info\n",
        "print(\"Masks shape:\", masks.shape)       # Expect [B, 1, H, W]\n",
        "print(\"Targets shape:\", targets.shape)   # Expect [B, 12]\n",
        "print(\"First sample targets:\\n\", targets[0])"
      ]
    },
    {
      "cell_type": "markdown",
      "id": "9d9cd0aa",
      "metadata": {
        "id": "9d9cd0aa"
      },
      "source": [
        "Split the dataset in (80%) train and (20%) test"
      ]
    },
    {
      "cell_type": "code",
      "execution_count": 6,
      "id": "8d58341b",
      "metadata": {
        "colab": {
          "base_uri": "https://localhost:8080/"
        },
        "id": "8d58341b",
        "outputId": "cceb9dc4-970a-4ec7-a880-11dc95a3c71a"
      },
      "outputs": [
        {
          "name": "stderr",
          "output_type": "stream",
          "text": [
            "/usr/local/lib/python3.11/dist-packages/torch/utils/data/dataloader.py:624: UserWarning: This DataLoader will create 4 worker processes in total. Our suggested max number of worker in current system is 2, which is smaller than what this DataLoader is going to create. Please be aware that excessive worker creation might get DataLoader running slow or even freeze, lower the worker number to avoid potential slowness/freeze if necessary.\n",
            "  warnings.warn(\n"
          ]
        }
      ],
      "source": [
        "from torch.utils.data import random_split, DataLoader\n",
        "\n",
        "# Define dataset lengths\n",
        "train_size = int(0.8 * len(dataset))\n",
        "test_size = len(dataset) - train_size\n",
        "\n",
        "# Split the dataset\n",
        "train_dataset, test_dataset = random_split(dataset, [train_size, test_size])\n",
        "\n",
        "# Define data loaders\n",
        "train_loader = DataLoader(train_dataset, batch_size=32, shuffle=True, num_workers=4, pin_memory=True)\n",
        "test_loader = DataLoader(test_dataset, batch_size=16, shuffle=False, num_workers=4, pin_memory=True)"
      ]
    },
    {
      "cell_type": "markdown",
      "id": "167b1fc6",
      "metadata": {
        "id": "167b1fc6"
      },
      "source": [
        "## Defining the model"
      ]
    },
    {
      "cell_type": "code",
      "execution_count": 7,
      "id": "b396d5da",
      "metadata": {
        "id": "b396d5da"
      },
      "outputs": [],
      "source": [
        "import torch.nn as nn\n",
        "\n",
        "class DropletCNNRegressor(nn.Module):\n",
        "    def __init__(self):\n",
        "        super(DropletCNNRegressor, self).__init__()\n",
        "        self.net = nn.Sequential(\n",
        "            nn.Conv2d(1, 32, kernel_size=3, padding=1),  # grayscale input\n",
        "            nn.ReLU(),\n",
        "            nn.Conv2d(32, 64, kernel_size=3, padding=1),\n",
        "            nn.ReLU(),\n",
        "            nn.MaxPool2d(2),\n",
        "\n",
        "            nn.Conv2d(64, 128, kernel_size=3, padding=1),\n",
        "            nn.ReLU(),\n",
        "            nn.Conv2d(128, 128, kernel_size=3, padding=1),\n",
        "            nn.ReLU(),\n",
        "            nn.MaxPool2d(2),\n",
        "\n",
        "            nn.Flatten(),\n",
        "            nn.Linear(128 * 45 * 60, 256),\n",
        "            nn.ReLU(),\n",
        "            nn.Dropout(0.3),\n",
        "            nn.Linear(256, 64),\n",
        "            nn.ReLU(),\n",
        "            nn.Linear(64, 12)\n",
        "        )\n",
        "\n",
        "    def forward(self, x):\n",
        "        return self.net(x)"
      ]
    },
    {
      "cell_type": "markdown",
      "id": "33a448a4",
      "metadata": {
        "id": "33a448a4"
      },
      "source": [
        "## Training"
      ]
    },
    {
      "cell_type": "code",
      "execution_count": null,
      "id": "b0a81fdd",
      "metadata": {
        "colab": {
          "base_uri": "https://localhost:8080/"
        },
        "id": "b0a81fdd",
        "outputId": "5486a731-ada6-4a8a-d621-02fa3d9645cf"
      },
      "outputs": [
        {
          "name": "stdout",
          "output_type": "stream",
          "text": [
            "Using device: cuda\n"
          ]
        },
        {
          "name": "stderr",
          "output_type": "stream",
          "text": [
            "/usr/local/lib/python3.11/dist-packages/torch/optim/lr_scheduler.py:62: UserWarning: The verbose parameter is deprecated. Please use get_last_lr() to access the learning rate.\n",
            "  warnings.warn(\n",
            "Epoch 1/40 [Train]: 100%|█████████████████████████████| 125/125 [06:21<00:00,  3.05s/it, loss=0.241]\n",
            "Epoch 1/40 [Val]: 100%|████████████████████████████| 63/63 [01:30<00:00,  1.44s/it, val_loss=0.0529]\n"
          ]
        },
        {
          "name": "stdout",
          "output_type": "stream",
          "text": [
            "Epoch [1/40] - Train Loss: 0.2138 - Val Loss: 0.0704 - Val R²: 0.7601\n"
          ]
        },
        {
          "name": "stderr",
          "output_type": "stream",
          "text": [
            "\rEpoch 2/40 [Train]:   0%|                                                   | 0/125 [00:00<?, ?it/s]/usr/local/lib/python3.11/dist-packages/torch/utils/data/dataloader.py:624: UserWarning: This DataLoader will create 4 worker processes in total. Our suggested max number of worker in current system is 2, which is smaller than what this DataLoader is going to create. Please be aware that excessive worker creation might get DataLoader running slow or even freeze, lower the worker number to avoid potential slowness/freeze if necessary.\n",
            "  warnings.warn(\n",
            "Epoch 2/40 [Train]: 100%|████████████████████████████| 125/125 [00:35<00:00,  3.57it/s, loss=0.0374]\n",
            "Epoch 2/40 [Val]: 100%|████████████████████████████| 63/63 [00:06<00:00,  9.42it/s, val_loss=0.0536]\n"
          ]
        },
        {
          "name": "stdout",
          "output_type": "stream",
          "text": [
            "Epoch [2/40] - Train Loss: 0.0951 - Val Loss: 0.0609 - Val R²: 0.7868\n"
          ]
        },
        {
          "name": "stderr",
          "output_type": "stream",
          "text": [
            "\rEpoch 3/40 [Train]:   0%|                                                   | 0/125 [00:00<?, ?it/s]/usr/local/lib/python3.11/dist-packages/torch/utils/data/dataloader.py:624: UserWarning: This DataLoader will create 4 worker processes in total. Our suggested max number of worker in current system is 2, which is smaller than what this DataLoader is going to create. Please be aware that excessive worker creation might get DataLoader running slow or even freeze, lower the worker number to avoid potential slowness/freeze if necessary.\n",
            "  warnings.warn(\n",
            "Epoch 3/40 [Train]: 100%|█████████████████████████████| 125/125 [00:34<00:00,  3.63it/s, loss=0.112]\n",
            "Epoch 3/40 [Val]: 100%|████████████████████████████| 63/63 [00:06<00:00,  9.30it/s, val_loss=0.0155]\n"
          ]
        },
        {
          "name": "stdout",
          "output_type": "stream",
          "text": [
            "Epoch [3/40] - Train Loss: 0.0749 - Val Loss: 0.0427 - Val R²: 0.8385\n"
          ]
        },
        {
          "name": "stderr",
          "output_type": "stream",
          "text": [
            "\rEpoch 4/40 [Train]:   0%|                                                   | 0/125 [00:00<?, ?it/s]/usr/local/lib/python3.11/dist-packages/torch/utils/data/dataloader.py:624: UserWarning: This DataLoader will create 4 worker processes in total. Our suggested max number of worker in current system is 2, which is smaller than what this DataLoader is going to create. Please be aware that excessive worker creation might get DataLoader running slow or even freeze, lower the worker number to avoid potential slowness/freeze if necessary.\n",
            "  warnings.warn(\n",
            "Epoch 4/40 [Train]: 100%|████████████████████████████| 125/125 [00:31<00:00,  3.99it/s, loss=0.0376]\n",
            "Epoch 4/40 [Val]: 100%|████████████████████████████| 63/63 [00:06<00:00,  9.87it/s, val_loss=0.0234]\n"
          ]
        },
        {
          "name": "stdout",
          "output_type": "stream",
          "text": [
            "Epoch [4/40] - Train Loss: 0.0564 - Val Loss: 0.0247 - Val R²: 0.8825\n"
          ]
        },
        {
          "name": "stderr",
          "output_type": "stream",
          "text": [
            "\rEpoch 5/40 [Train]:   0%|                                                   | 0/125 [00:00<?, ?it/s]/usr/local/lib/python3.11/dist-packages/torch/utils/data/dataloader.py:624: UserWarning: This DataLoader will create 4 worker processes in total. Our suggested max number of worker in current system is 2, which is smaller than what this DataLoader is going to create. Please be aware that excessive worker creation might get DataLoader running slow or even freeze, lower the worker number to avoid potential slowness/freeze if necessary.\n",
            "  warnings.warn(\n",
            "Epoch 5/40 [Train]: 100%|████████████████████████████| 125/125 [00:33<00:00,  3.76it/s, loss=0.0241]\n",
            "Epoch 5/40 [Val]: 100%|█████████████████████████████| 63/63 [00:05<00:00, 11.89it/s, val_loss=0.022]\n"
          ]
        },
        {
          "name": "stdout",
          "output_type": "stream",
          "text": [
            "Epoch [5/40] - Train Loss: 0.0433 - Val Loss: 0.0213 - Val R²: 0.8906\n"
          ]
        },
        {
          "name": "stderr",
          "output_type": "stream",
          "text": [
            "\rEpoch 6/40 [Train]:   0%|                                                   | 0/125 [00:00<?, ?it/s]/usr/local/lib/python3.11/dist-packages/torch/utils/data/dataloader.py:624: UserWarning: This DataLoader will create 4 worker processes in total. Our suggested max number of worker in current system is 2, which is smaller than what this DataLoader is going to create. Please be aware that excessive worker creation might get DataLoader running slow or even freeze, lower the worker number to avoid potential slowness/freeze if necessary.\n",
            "  warnings.warn(\n",
            "Epoch 6/40 [Train]: 100%|████████████████████████████| 125/125 [00:32<00:00,  3.90it/s, loss=0.0216]\n",
            "Epoch 6/40 [Val]: 100%|████████████████████████████| 63/63 [00:05<00:00, 12.11it/s, val_loss=0.0153]\n"
          ]
        },
        {
          "name": "stdout",
          "output_type": "stream",
          "text": [
            "Epoch [6/40] - Train Loss: 0.0376 - Val Loss: 0.0190 - Val R²: 0.8951\n"
          ]
        },
        {
          "name": "stderr",
          "output_type": "stream",
          "text": [
            "\rEpoch 7/40 [Train]:   0%|                                                   | 0/125 [00:00<?, ?it/s]/usr/local/lib/python3.11/dist-packages/torch/utils/data/dataloader.py:624: UserWarning: This DataLoader will create 4 worker processes in total. Our suggested max number of worker in current system is 2, which is smaller than what this DataLoader is going to create. Please be aware that excessive worker creation might get DataLoader running slow or even freeze, lower the worker number to avoid potential slowness/freeze if necessary.\n",
            "  warnings.warn(\n",
            "Epoch 7/40 [Train]: 100%|████████████████████████████| 125/125 [00:32<00:00,  3.90it/s, loss=0.0157]\n",
            "Epoch 7/40 [Val]: 100%|███████████████████████████| 63/63 [00:06<00:00, 10.30it/s, val_loss=0.00918]\n"
          ]
        },
        {
          "name": "stdout",
          "output_type": "stream",
          "text": [
            "Epoch [7/40] - Train Loss: 0.0344 - Val Loss: 0.0174 - Val R²: 0.8985\n"
          ]
        },
        {
          "name": "stderr",
          "output_type": "stream",
          "text": [
            "\rEpoch 8/40 [Train]:   0%|                                                   | 0/125 [00:00<?, ?it/s]/usr/local/lib/python3.11/dist-packages/torch/utils/data/dataloader.py:624: UserWarning: This DataLoader will create 4 worker processes in total. Our suggested max number of worker in current system is 2, which is smaller than what this DataLoader is going to create. Please be aware that excessive worker creation might get DataLoader running slow or even freeze, lower the worker number to avoid potential slowness/freeze if necessary.\n",
            "  warnings.warn(\n",
            "Epoch 8/40 [Train]: 100%|████████████████████████████| 125/125 [00:31<00:00,  4.02it/s, loss=0.0183]\n",
            "Epoch 8/40 [Val]: 100%|████████████████████████████| 63/63 [00:06<00:00,  9.38it/s, val_loss=0.0239]\n"
          ]
        },
        {
          "name": "stdout",
          "output_type": "stream",
          "text": [
            "Epoch [8/40] - Train Loss: 0.0345 - Val Loss: 0.0232 - Val R²: 0.8868\n"
          ]
        },
        {
          "name": "stderr",
          "output_type": "stream",
          "text": [
            "\rEpoch 9/40 [Train]:   0%|                                                   | 0/125 [00:00<?, ?it/s]/usr/local/lib/python3.11/dist-packages/torch/utils/data/dataloader.py:624: UserWarning: This DataLoader will create 4 worker processes in total. Our suggested max number of worker in current system is 2, which is smaller than what this DataLoader is going to create. Please be aware that excessive worker creation might get DataLoader running slow or even freeze, lower the worker number to avoid potential slowness/freeze if necessary.\n",
            "  warnings.warn(\n",
            "Epoch 9/40 [Train]: 100%|████████████████████████████| 125/125 [00:31<00:00,  3.98it/s, loss=0.0243]\n",
            "Epoch 9/40 [Val]: 100%|███████████████████████████| 63/63 [00:06<00:00,  9.43it/s, val_loss=0.00846]\n"
          ]
        },
        {
          "name": "stdout",
          "output_type": "stream",
          "text": [
            "Epoch [9/40] - Train Loss: 0.0323 - Val Loss: 0.0178 - Val R²: 0.8977\n"
          ]
        },
        {
          "name": "stderr",
          "output_type": "stream",
          "text": [
            "\rEpoch 10/40 [Train]:   0%|                                                  | 0/125 [00:00<?, ?it/s]/usr/local/lib/python3.11/dist-packages/torch/utils/data/dataloader.py:624: UserWarning: This DataLoader will create 4 worker processes in total. Our suggested max number of worker in current system is 2, which is smaller than what this DataLoader is going to create. Please be aware that excessive worker creation might get DataLoader running slow or even freeze, lower the worker number to avoid potential slowness/freeze if necessary.\n",
            "  warnings.warn(\n",
            "Epoch 10/40 [Train]: 100%|███████████████████████████| 125/125 [00:31<00:00,  3.99it/s, loss=0.0229]\n",
            "Epoch 10/40 [Val]: 100%|███████████████████████████| 63/63 [00:06<00:00, 10.10it/s, val_loss=0.0096]\n"
          ]
        },
        {
          "name": "stdout",
          "output_type": "stream",
          "text": [
            "Epoch [10/40] - Train Loss: 0.0304 - Val Loss: 0.0166 - Val R²: 0.9001\n"
          ]
        },
        {
          "name": "stderr",
          "output_type": "stream",
          "text": [
            "\rEpoch 11/40 [Train]:   0%|                                                  | 0/125 [00:00<?, ?it/s]/usr/local/lib/python3.11/dist-packages/torch/utils/data/dataloader.py:624: UserWarning: This DataLoader will create 4 worker processes in total. Our suggested max number of worker in current system is 2, which is smaller than what this DataLoader is going to create. Please be aware that excessive worker creation might get DataLoader running slow or even freeze, lower the worker number to avoid potential slowness/freeze if necessary.\n",
            "  warnings.warn(\n",
            "Epoch 11/40 [Train]: 100%|███████████████████████████| 125/125 [00:30<00:00,  4.03it/s, loss=0.0318]\n",
            "Epoch 11/40 [Val]: 100%|██████████████████████████| 63/63 [00:05<00:00, 11.92it/s, val_loss=0.00882]\n"
          ]
        },
        {
          "name": "stdout",
          "output_type": "stream",
          "text": [
            "Epoch [11/40] - Train Loss: 0.0310 - Val Loss: 0.0172 - Val R²: 0.8991\n"
          ]
        },
        {
          "name": "stderr",
          "output_type": "stream",
          "text": [
            "\rEpoch 12/40 [Train]:   0%|                                                  | 0/125 [00:00<?, ?it/s]/usr/local/lib/python3.11/dist-packages/torch/utils/data/dataloader.py:624: UserWarning: This DataLoader will create 4 worker processes in total. Our suggested max number of worker in current system is 2, which is smaller than what this DataLoader is going to create. Please be aware that excessive worker creation might get DataLoader running slow or even freeze, lower the worker number to avoid potential slowness/freeze if necessary.\n",
            "  warnings.warn(\n",
            "Epoch 12/40 [Train]: 100%|█████████████████████████████| 125/125 [00:32<00:00,  3.90it/s, loss=0.01]\n",
            "Epoch 12/40 [Val]: 100%|███████████████████████████| 63/63 [00:05<00:00, 12.06it/s, val_loss=0.0159]\n"
          ]
        },
        {
          "name": "stdout",
          "output_type": "stream",
          "text": [
            "Epoch [12/40] - Train Loss: 0.0299 - Val Loss: 0.0176 - Val R²: 0.8983\n"
          ]
        },
        {
          "name": "stderr",
          "output_type": "stream",
          "text": [
            "\rEpoch 13/40 [Train]:   0%|                                                  | 0/125 [00:00<?, ?it/s]/usr/local/lib/python3.11/dist-packages/torch/utils/data/dataloader.py:624: UserWarning: This DataLoader will create 4 worker processes in total. Our suggested max number of worker in current system is 2, which is smaller than what this DataLoader is going to create. Please be aware that excessive worker creation might get DataLoader running slow or even freeze, lower the worker number to avoid potential slowness/freeze if necessary.\n",
            "  warnings.warn(\n",
            "Epoch 13/40 [Train]: 100%|███████████████████████████| 125/125 [00:31<00:00,  3.99it/s, loss=0.0435]\n",
            "Epoch 13/40 [Val]: 100%|███████████████████████████| 63/63 [00:08<00:00,  7.83it/s, val_loss=0.0122]\n"
          ]
        },
        {
          "name": "stdout",
          "output_type": "stream",
          "text": [
            "Epoch [13/40] - Train Loss: 0.0293 - Val Loss: 0.0171 - Val R²: 0.8995\n",
            "Early stopping: Validation loss did not improve.\n",
            "\n",
            "Total training time: 955.70 seconds\n"
          ]
        }
      ],
      "source": [
        "import torch\n",
        "import torch.nn as nn\n",
        "import torch.optim as optim\n",
        "from tqdm import tqdm\n",
        "from sklearn.metrics import r2_score\n",
        "import matplotlib.pyplot as plt\n",
        "import time\n",
        "\n",
        "device = torch.device(\"cuda\" if torch.cuda.is_available() else \"cpu\")\n",
        "print(f\"Using device: {device}\")\n",
        "\n",
        "model = DropletCNNRegressor().to(device)\n",
        "criterion = nn.SmoothL1Loss()\n",
        "optimizer = optim.Adam(model.parameters(), lr=1e-4)\n",
        "scheduler = torch.optim.lr_scheduler.ReduceLROnPlateau(optimizer, mode='min', patience=2, factor=0.5, verbose=True)\n",
        "\n",
        "num_epochs = 40\n",
        "patience = 3\n",
        "\n",
        "# Early stopping and tracking\n",
        "best_val_loss = float('inf')\n",
        "patience_counter = 0\n",
        "train_losses = []\n",
        "val_losses = []\n",
        "val_r2_scores = []\n",
        "\n",
        "start_time = time.time()\n",
        "\n",
        "for epoch in range(num_epochs):\n",
        "    model.train()\n",
        "    running_loss = 0.0\n",
        "    train_bar = tqdm(train_loader, desc=f\"Epoch {epoch+1}/{num_epochs} [Train]\", ncols=100)\n",
        "\n",
        "    for images, labels in train_bar:\n",
        "        images, labels = images.to(device), labels.to(device)\n",
        "\n",
        "        optimizer.zero_grad()\n",
        "        outputs = model(images)\n",
        "        loss = criterion(outputs, labels)\n",
        "        loss.backward()\n",
        "        optimizer.step()\n",
        "\n",
        "        running_loss += loss.item()\n",
        "        train_bar.set_postfix(loss=loss.item())\n",
        "\n",
        "    avg_train_loss = running_loss / len(train_loader)\n",
        "    train_losses.append(avg_train_loss)\n",
        "\n",
        "    # Validation\n",
        "    model.eval()\n",
        "    val_loss = 0.0\n",
        "    all_preds, all_labels = [], []\n",
        "    val_bar = tqdm(test_loader, desc=f\"Epoch {epoch+1}/{num_epochs} [Val]\", leave=True, ncols=100)\n",
        "\n",
        "    with torch.no_grad():\n",
        "        for images, labels in val_bar:\n",
        "            images, labels = images.to(device), labels.to(device)\n",
        "            outputs = model(images)\n",
        "            loss = criterion(outputs, labels)\n",
        "            val_loss += loss.item()\n",
        "\n",
        "            all_preds.append(outputs.cpu().numpy())\n",
        "            all_labels.append(labels.cpu().numpy())\n",
        "            val_bar.set_postfix(val_loss=loss.item())\n",
        "\n",
        "    avg_val_loss = val_loss / len(test_loader)\n",
        "    val_losses.append(avg_val_loss)\n",
        "\n",
        "    scheduler.step(avg_val_loss)\n",
        "\n",
        "    # R^2 for this validation epoch\n",
        "    all_preds_np = np.vstack(all_preds)\n",
        "    all_labels_np = np.vstack(all_labels)\n",
        "    val_r2 = r2_score(all_labels_np, all_preds_np)\n",
        "    val_r2_scores.append(val_r2)\n",
        "\n",
        "    print(f\"Epoch [{epoch+1}/{num_epochs}] - Train Loss: {avg_train_loss:.4f} - Val Loss: {avg_val_loss:.4f} - Val R²: {val_r2:.4f}\")\n",
        "\n",
        "    torch.save(model.state_dict(), f\"cnn_regressor_last.pth\")\n",
        "\n",
        "    if avg_val_loss < best_val_loss:\n",
        "        best_val_loss = avg_val_loss\n",
        "        patience_counter = 0\n",
        "    else:\n",
        "        patience_counter += 1\n",
        "        if patience_counter >= patience:\n",
        "            print(f\"Early stopping: Validation loss did not improve for ${patience} epochs.\")\n",
        "            break\n",
        "\n",
        "end_time = time.time()\n",
        "total_time = end_time - start_time\n",
        "print(f\"\\nTotal training time: {total_time:.2f} seconds\")"
      ]
    },
    {
      "cell_type": "code",
      "execution_count": null,
      "id": "4e82dd65",
      "metadata": {
        "colab": {
          "base_uri": "https://localhost:8080/"
        },
        "id": "4e82dd65",
        "outputId": "3209b0a5-8f13-4cd2-e5a7-566067bd840c"
      },
      "outputs": [
        {
          "name": "stdout",
          "output_type": "stream",
          "text": [
            "Model saved to /content/drive/MyDrive/Pi2/cnn_regressor_best.pth\n"
          ]
        }
      ],
      "source": [
        "MODEL_SAVE_PATH = \"cnn_regressor_best.pth\"\n",
        "torch.save(model.state_dict(), MODEL_SAVE_PATH)\n",
        "print(f\"Model saved to {MODEL_SAVE_PATH}\")"
      ]
    },
    {
      "cell_type": "markdown",
      "id": "83acc9e0",
      "metadata": {
        "id": "83acc9e0"
      },
      "source": [
        "## Evaluating the model"
      ]
    },
    {
      "cell_type": "code",
      "execution_count": 10,
      "id": "551fdd17",
      "metadata": {
        "colab": {
          "base_uri": "https://localhost:8080/"
        },
        "id": "551fdd17",
        "outputId": "cfeb88b4-4d37-4478-eea1-82ce7bc77383"
      },
      "outputs": [
        {
          "name": "stderr",
          "output_type": "stream",
          "text": [
            "/usr/local/lib/python3.11/dist-packages/torch/utils/data/dataloader.py:624: UserWarning: This DataLoader will create 4 worker processes in total. Our suggested max number of worker in current system is 2, which is smaller than what this DataLoader is going to create. Please be aware that excessive worker creation might get DataLoader running slow or even freeze, lower the worker number to avoid potential slowness/freeze if necessary.\n",
            "  warnings.warn(\n"
          ]
        },
        {
          "name": "stdout",
          "output_type": "stream",
          "text": [
            "\n",
            "Final Evaluation:\n",
            "  MAE  = 0.1107\n",
            "  MSE  = 0.0950\n",
            "  R²   = 0.8991\n",
            "\n",
            "Sample Predictions (3 random examples):\n",
            "\n",
            "Example 485:\n",
            "  Ground truth : [-0.11 -0.05 -0.56 -0.57  0.7  -0.31 -0.54 -0.08 -0.27  0.73 -0.36 -0.73]\n",
            "  Prediction   : [-0.12 -0.13 -0.45 -0.47  0.66 -0.22 -0.4  -0.05 -0.25  0.7  -0.25 -0.73]\n",
            "\n",
            "Example 828:\n",
            "  Ground truth : [-0.09 -0.19 -0.44 -0.61  0.66 -0.21 -0.4  -0.12 -0.32  0.65 -0.22 -0.65]\n",
            "  Prediction   : [-0.14 -0.14 -0.45 -0.48  0.59 -0.2  -0.35 -0.08 -0.27  0.61 -0.22 -0.66]\n",
            "\n",
            "Example 843:\n",
            "  Ground truth : [-0.72 -0.5  -0.73 -0.46  1.29 -0.32 -0.54 -0.02 -0.21  1.06 -0.29 -1.06]\n",
            "  Prediction   : [-0.36 -0.28 -0.7  -0.39  1.1  -0.31 -0.51  0.03 -0.2   0.92 -0.33 -0.97]\n"
          ]
        }
      ],
      "source": [
        "from sklearn.metrics import mean_absolute_error, mean_squared_error, r2_score\n",
        "import random\n",
        "\n",
        "model.eval()\n",
        "all_preds = []\n",
        "all_targets = []\n",
        "\n",
        "with torch.no_grad():\n",
        "    for images, labels in test_loader:\n",
        "        images = images.to(device)\n",
        "        outputs = model(images).cpu().numpy()\n",
        "        labels = labels.cpu().numpy()\n",
        "\n",
        "        all_preds.append(outputs)\n",
        "        all_targets.append(labels)\n",
        "\n",
        "all_preds = np.vstack(all_preds)\n",
        "all_targets = np.vstack(all_targets)\n",
        "\n",
        "mae = mean_absolute_error(all_targets, all_preds)\n",
        "mse = mean_squared_error(all_targets, all_preds)\n",
        "r2 = r2_score(all_targets, all_preds)\n",
        "\n",
        "print(f\"\\nFinal Evaluation:\")\n",
        "print(f\"  MAE  = {mae:.4f}\")\n",
        "print(f\"  MSE  = {mse:.4f}\")\n",
        "print(f\"  R²   = {r2:.4f}\")\n",
        "\n",
        "print(\"\\nSample Predictions (3 random examples):\")\n",
        "indices = random.sample(range(len(all_targets)), 3)\n",
        "for i in indices:\n",
        "    print(f\"\\nExample {i+1}:\")\n",
        "    print(f\"  Ground truth : {np.round(all_targets[i], 2)}\")\n",
        "    print(f\"  Prediction   : {np.round(all_preds[i], 2)}\")\n"
      ]
    },
    {
      "cell_type": "markdown",
      "id": "2b9Bt16muv8P",
      "metadata": {
        "id": "2b9Bt16muv8P"
      },
      "source": [
        "## Plotting"
      ]
    },
    {
      "cell_type": "code",
      "execution_count": 11,
      "id": "6jsbhL9auxtH",
      "metadata": {
        "colab": {
          "base_uri": "https://localhost:8080/",
          "height": 465
        },
        "id": "6jsbhL9auxtH",
        "outputId": "33ce1c58-7720-4829-b2d9-7d88fa6f1f6f"
      },
      "outputs": [
        {
          "data": {
            "image/png": "[encoded data removed]",
            "text/plain": [
              "<Figure size 1200x500 with 2 Axes>"
            ]
          },
          "metadata": {},
          "output_type": "display_data"
        }
      ],
      "source": [
        "plt.figure(figsize=(12, 5))\n",
        "\n",
        "plt.subplot(1, 2, 1)\n",
        "plt.plot(train_losses, label='Train MSE')\n",
        "plt.plot(val_losses, label='Val MSE')\n",
        "plt.xlabel(\"Epoch\")\n",
        "plt.ylabel(\"MSE Loss\")\n",
        "plt.title(\"Training and Validation MSE Loss\")\n",
        "plt.legend()\n",
        "\n",
        "plt.subplot(1, 2, 2)\n",
        "plt.plot(val_r2_scores, label='Val R²', color='green')\n",
        "plt.xlabel(\"Epoch\")\n",
        "plt.ylabel(\"R² Score\")\n",
        "plt.title(\"Validation R² Score per Epoch\")\n",
        "plt.legend()\n",
        "\n",
        "plt.tight_layout()\n",
        "plt.show()"
      ]
    }
  ],
  "metadata": {
    "accelerator": "GPU",
    "colab": {
      "gpuType": "T4",
      "provenance": []
    },
    "kernelspec": {
      "display_name": "Python 3",
      "name": "python3"
    },
    "language_info": {
      "codemirror_mode": {
        "name": "ipython",
        "version": 3
      },
      "file_extension": ".py",
      "mimetype": "text/x-python",
      "name": "python",
      "nbconvert_exporter": "python",
      "pygments_lexer": "ipython3",
      "version": "3.11.8"
    }
  },
  "nbformat": 4,
  "nbformat_minor": 5
}
