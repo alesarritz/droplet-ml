{
  "cells": [
    {
      "cell_type": "markdown",
      "id": "b32f3bbf",
      "metadata": {
        "id": "b32f3bbf"
      },
      "source": [
        "# CNN-based Regressor model\n",
        "The goal is to train and evaluate a model that, given a droplets' segmentation mask, predicts the following statistics:\n",
        "- left contact angle\n",
        "- right contact angle\n",
        "- volume\n",
        "- ellipse xc (x coordinate of the center of the ellipse)\n",
        "- ellipse yc (y coordinate of the center of the ellipse)\n",
        "- ellipse a (half the length of the major axis of the ellipse)\n",
        "- ellipse b (half the length of the minor axis of the ellipse)\n",
        "- ellipse theta (rotation angle of the ellipse (in radians), counter-clockwise from the x-axis to the ellipse’s major axis)\n",
        "- bbox x (x coordinate of the left bottom vertex of the bounding box)\n",
        "- bbox y (y coordinate of the left bottom vertex of the bounding box)\n",
        "- bbox w (width of the bounding box)\n",
        "- bbox h (height of the bounding box)"
      ]
    },
    {
      "cell_type": "markdown",
      "id": "2c687c9a",
      "metadata": {
        "id": "2c687c9a"
      },
      "source": [
        "## Defining the dataset"
      ]
    },
    {
      "cell_type": "code",
      "execution_count": null,
      "id": "cd9e3200",
      "metadata": {
        "id": "cd9e3200"
      },
      "outputs": [],
      "source": [
        "import os\n",
        "import pandas as pd\n",
        "import torch\n",
        "from torch.utils.data import Dataset, DataLoader\n",
        "from PIL import Image\n",
        "import numpy as np\n",
        "import torchvision.transforms as transforms\n",
        "\n",
        "MASK_DIR = \"../3. Segmentation and Detection Models/droplet_masks\"\n",
        "REGRESSION_INFO_PATH = \"../5. Robust Estimation and Evaluation Methods/analysis/droplet_analysis.csv\"\n",
        "\n",
        "transform = transforms.Compose([\n",
        "    transforms.Resize((180, 240)), # the original images from the video are 720x540, and 180x240 preserves the aspect ratio (4:3)\n",
        "    transforms.ToTensor()\n",
        "])\n",
        "\n",
        "class DropletRegressionDataset(Dataset):\n",
        "    def __init__(self, mask_dir, csv_path, transform=None):\n",
        "        \"\"\"\n",
        "        mask_dir: path to folder containing binary masks (as .png files)\n",
        "        csv_path: path to CSV file containing the frame code and the 13 regression values\n",
        "        transform: optional torchvision or custom transform\n",
        "        \"\"\"\n",
        "        self.mask_dir = mask_dir\n",
        "        self.df = pd.read_csv(csv_path)\n",
        "        self.df.drop(self.df[self.df.Valid == 'False'].index, inplace=True) # drops not valid rows\n",
        "        self.df.drop(columns=['Volume_Loss', 'Valid'], inplace=True)\n",
        "        self.df.dropna(inplace=True)\n",
        "        self.transform = transform\n",
        "\n",
        "    def __len__(self):\n",
        "        return len(self.df)\n",
        "\n",
        "    def __getitem__(self, idx):\n",
        "        row = self.df.iloc[idx] # read row idx from the dataframe\n",
        "        frame_code = int(row[\"Frame\"])\n",
        "        frame_code_str = f\"{frame_code:03d}\"\n",
        "        mask_path = os.path.join(self.mask_dir, f\"frame_{frame_code_str}_mask.png\")\n",
        "\n",
        "        # Load the binary mask image (L = grayscale)\n",
        "        mask = Image.open(mask_path).convert(\"L\")\n",
        "\n",
        "        # Apply transformations (e.g., resize, ToTensor, normalize)\n",
        "        if self.transform:\n",
        "            mask = self.transform(mask)\n",
        "        else:\n",
        "            # Default: convert to tensor and normalize to [0, 1]\n",
        "            mask = torch.tensor(np.array(mask), dtype=torch.float32).unsqueeze(0) / 255.0\n",
        "\n",
        "        # Load 12 regression targets\n",
        "        targets = torch.tensor(row[1:].values.astype(np.float32))  # exclude filename\n",
        "\n",
        "        return mask, targets\n"
      ]
    },
    {
      "cell_type": "code",
      "execution_count": 11,
      "id": "9fd8e7b4",
      "metadata": {
        "colab": {
          "base_uri": "https://localhost:8080/"
        },
        "id": "9fd8e7b4",
        "outputId": "41349b05-fd5d-4ac8-b993-b3260d2ec0cf"
      },
      "outputs": [
        {
          "name": "stdout",
          "output_type": "stream",
          "text": [
            "Masks shape: torch.Size([4, 1, 180, 240])\n",
            "Targets shape: torch.Size([4, 12])\n",
            "First sample targets:\n",
            " tensor([ 1.2067e+02,  1.2053e+02,  6.8095e+04,  3.9439e+02,  2.6502e+02,\n",
            "         1.6344e+02,  1.5157e+02, -1.9544e+00,  2.3000e+02,  1.1300e+02,\n",
            "         3.2900e+02,  2.4800e+02])\n"
          ]
        }
      ],
      "source": [
        "dataset = DropletRegressionDataset(mask_dir=MASK_DIR, csv_path=REGRESSION_INFO_PATH, transform=transform)\n",
        "\n",
        "# Create DataLoader for testing\n",
        "dataloader = DataLoader(dataset, batch_size=4, shuffle=True)\n",
        "\n",
        "# Fetch a single batch\n",
        "masks, targets = next(iter(dataloader))\n",
        "\n",
        "# Display some info\n",
        "print(\"Masks shape:\", masks.shape)       # Expect [B, 1, H, W]\n",
        "print(\"Targets shape:\", targets.shape)   # Expect [B, 12]\n",
        "print(\"First sample targets:\\n\", targets[0])"
      ]
    },
    {
      "cell_type": "markdown",
      "id": "9d9cd0aa",
      "metadata": {
        "id": "9d9cd0aa"
      },
      "source": [
        "Split the dataset in (80%) train and (20%) test"
      ]
    },
    {
      "cell_type": "code",
      "execution_count": 12,
      "id": "8d58341b",
      "metadata": {
        "id": "8d58341b"
      },
      "outputs": [],
      "source": [
        "from torch.utils.data import random_split, DataLoader\n",
        "\n",
        "# Define dataset lengths\n",
        "train_size = int(0.8 * len(dataset))\n",
        "test_size = len(dataset) - train_size\n",
        "\n",
        "# Split the dataset\n",
        "train_dataset, test_dataset = random_split(dataset, [train_size, test_size])\n",
        "\n",
        "# Define data loaders\n",
        "train_loader = DataLoader(train_dataset, batch_size=16, shuffle=True)\n",
        "test_loader = DataLoader(test_dataset, batch_size=16, shuffle=False)"
      ]
    },
    {
      "cell_type": "markdown",
      "id": "167b1fc6",
      "metadata": {
        "id": "167b1fc6"
      },
      "source": [
        "## Defining the model"
      ]
    },
    {
      "cell_type": "code",
      "execution_count": 13,
      "id": "b396d5da",
      "metadata": {
        "id": "b396d5da"
      },
      "outputs": [],
      "source": [
        "import torch.nn as nn\n",
        "\n",
        "class DropletCNNRegressor(nn.Module):\n",
        "    def __init__(self):\n",
        "        super().__init__()\n",
        "        self.features = nn.Sequential(\n",
        "            # input size (1, 180, 240)\n",
        "            nn.Conv2d(1, 16, kernel_size=3, padding=1), nn.ReLU(), # (16, 180, 240)\n",
        "            nn.Conv2d(16, 32, kernel_size=3, padding=1), nn.ReLU(), # (32, 180, 240)\n",
        "            nn.MaxPool2d(2),  # Output: (32, 90, 120), halves width and length\n",
        "\n",
        "            nn.Conv2d(32, 64, kernel_size=3, padding=1), nn.ReLU(),\n",
        "            nn.Conv2d(64, 64, kernel_size=3, padding=1), nn.ReLU(),\n",
        "            nn.MaxPool2d(2),  # Output: (64, 45, 60)\n",
        "\n",
        "            nn.Conv2d(64, 128, kernel_size=3, padding=1), nn.ReLU(),\n",
        "            nn.MaxPool2d(2)   # Output: (128, 22, 30)\n",
        "        )\n",
        "\n",
        "        dummy_input = torch.zeros(1, 1, 180, 240)\n",
        "        out = self.features(dummy_input)\n",
        "        self.flattened_size = out.view(1, -1).size(1)\n",
        "\n",
        "        self.regressor = nn.Sequential(\n",
        "            nn.Flatten(),\n",
        "            nn.Linear(self.flattened_size, 256), nn.ReLU(),\n",
        "            nn.Linear(256, 64), nn.ReLU(),\n",
        "            nn.Linear(64, 12)  # Output: 12 regression values\n",
        "        )\n",
        "\n",
        "    def forward(self, x):\n",
        "        x = self.features(x)\n",
        "        return self.regressor(x)"
      ]
    },
    {
      "cell_type": "markdown",
      "id": "33a448a4",
      "metadata": {
        "id": "33a448a4"
      },
      "source": [
        "## Training"
      ]
    },
    {
      "cell_type": "code",
      "execution_count": 14,
      "id": "b0a81fdd",
      "metadata": {
        "colab": {
          "base_uri": "https://localhost:8080/"
        },
        "id": "b0a81fdd",
        "outputId": "da1aa6de-3ffe-4315-a293-f365ab780a65"
      },
      "outputs": [
        {
          "name": "stderr",
          "output_type": "stream",
          "text": [
            "Epoch 1/40 [Train]: 100%|███████████████████████████| 249/249 [31:02<00:00,  7.48s/it, loss=1.98e+6]\n",
            "Epoch 1/40 [Val]: 100%|███████████████████████████| 63/63 [05:59<00:00,  5.70s/it, val_loss=8.42e+4]\n"
          ]
        },
        {
          "name": "stdout",
          "output_type": "stream",
          "text": [
            "Epoch [1/40] - Train Loss: 112920113.0067 - Val Loss: 1500473.3630 - Val R²: -9.8227\n"
          ]
        },
        {
          "name": "stderr",
          "output_type": "stream",
          "text": [
            "Epoch 2/40 [Train]: 100%|███████████████████████████| 249/249 [15:52<00:00,  3.82s/it, loss=9.65e+5]\n",
            "Epoch 2/40 [Val]: 100%|███████████████████████████| 63/63 [01:12<00:00,  1.14s/it, val_loss=1.31e+5]\n"
          ]
        },
        {
          "name": "stdout",
          "output_type": "stream",
          "text": [
            "Epoch [2/40] - Train Loss: 1274990.4970 - Val Loss: 863819.4950 - Val R²: -24.2337\n"
          ]
        },
        {
          "name": "stderr",
          "output_type": "stream",
          "text": [
            "Epoch 3/40 [Train]: 100%|███████████████████████████| 249/249 [17:37<00:00,  4.25s/it, loss=2.36e+5]\n",
            "Epoch 3/40 [Val]: 100%|███████████████████████████| 63/63 [01:19<00:00,  1.26s/it, val_loss=7.18e+4]\n"
          ]
        },
        {
          "name": "stdout",
          "output_type": "stream",
          "text": [
            "Epoch [3/40] - Train Loss: 587080.5065 - Val Loss: 268300.1228 - Val R²: -142.9682\n"
          ]
        },
        {
          "name": "stderr",
          "output_type": "stream",
          "text": [
            "Epoch 4/40 [Train]: 100%|███████████████████████████| 249/249 [18:12<00:00,  4.39s/it, loss=1.12e+5]\n",
            "Epoch 4/40 [Val]: 100%|███████████████████████████| 63/63 [01:23<00:00,  1.33s/it, val_loss=4.54e+3]\n"
          ]
        },
        {
          "name": "stdout",
          "output_type": "stream",
          "text": [
            "Epoch [4/40] - Train Loss: 128118.8726 - Val Loss: 43887.5447 - Val R²: -208.2123\n"
          ]
        },
        {
          "name": "stderr",
          "output_type": "stream",
          "text": [
            "Epoch 5/40 [Train]: 100%|███████████████████████████| 249/249 [18:23<00:00,  4.43s/it, loss=1.21e+4]\n",
            "Epoch 5/40 [Val]: 100%|███████████████████████████| 63/63 [01:11<00:00,  1.13s/it, val_loss=1.06e+3]\n"
          ]
        },
        {
          "name": "stdout",
          "output_type": "stream",
          "text": [
            "Epoch [5/40] - Train Loss: 32104.9516 - Val Loss: 23611.3869 - Val R²: -127.4146\n"
          ]
        },
        {
          "name": "stderr",
          "output_type": "stream",
          "text": [
            "Epoch 6/40 [Train]: 100%|███████████████████████████| 249/249 [19:09<00:00,  4.62s/it, loss=3.75e+3]\n",
            "Epoch 6/40 [Val]: 100%|███████████████████████████| 63/63 [01:22<00:00,  1.30s/it, val_loss=1.93e+3]\n"
          ]
        },
        {
          "name": "stdout",
          "output_type": "stream",
          "text": [
            "Epoch [6/40] - Train Loss: 21892.3649 - Val Loss: 19450.2459 - Val R²: -54.9842\n"
          ]
        },
        {
          "name": "stderr",
          "output_type": "stream",
          "text": [
            "Epoch 7/40 [Train]: 100%|███████████████████████████| 249/249 [18:31<00:00,  4.46s/it, loss=1.58e+4]\n",
            "Epoch 7/40 [Val]: 100%|███████████████████████████████| 63/63 [01:24<00:00,  1.35s/it, val_loss=725]\n"
          ]
        },
        {
          "name": "stdout",
          "output_type": "stream",
          "text": [
            "Epoch [7/40] - Train Loss: 17965.7543 - Val Loss: 15080.1489 - Val R²: -26.9994\n"
          ]
        },
        {
          "name": "stderr",
          "output_type": "stream",
          "text": [
            "Epoch 8/40 [Train]: 100%|███████████████████████████| 249/249 [18:08<00:00,  4.37s/it, loss=1.81e+4]\n",
            "Epoch 8/40 [Val]: 100%|███████████████████████████| 63/63 [01:26<00:00,  1.37s/it, val_loss=1.07e+3]\n"
          ]
        },
        {
          "name": "stdout",
          "output_type": "stream",
          "text": [
            "Epoch [8/40] - Train Loss: 14905.5397 - Val Loss: 12862.1552 - Val R²: -18.8542\n"
          ]
        },
        {
          "name": "stderr",
          "output_type": "stream",
          "text": [
            "Epoch 9/40 [Train]: 100%|███████████████████████████| 249/249 [18:37<00:00,  4.49s/it, loss=5.02e+3]\n",
            "Epoch 9/40 [Val]: 100%|███████████████████████████| 63/63 [01:12<00:00,  1.15s/it, val_loss=1.71e+3]\n"
          ]
        },
        {
          "name": "stdout",
          "output_type": "stream",
          "text": [
            "Epoch [9/40] - Train Loss: 11650.5160 - Val Loss: 9909.6791 - Val R²: -15.2368\n"
          ]
        },
        {
          "name": "stderr",
          "output_type": "stream",
          "text": [
            "Epoch 10/40 [Train]: 100%|██████████████████████████| 249/249 [17:36<00:00,  4.24s/it, loss=9.46e+3]\n",
            "Epoch 10/40 [Val]: 100%|██████████████████████████| 63/63 [01:26<00:00,  1.37s/it, val_loss=2.49e+3]\n"
          ]
        },
        {
          "name": "stdout",
          "output_type": "stream",
          "text": [
            "Epoch [10/40] - Train Loss: 8896.3867 - Val Loss: 7918.8489 - Val R²: -14.8157\n"
          ]
        },
        {
          "name": "stderr",
          "output_type": "stream",
          "text": [
            "Epoch 11/40 [Train]: 100%|██████████████████████████| 249/249 [17:03<00:00,  4.11s/it, loss=1.84e+3]\n",
            "Epoch 11/40 [Val]: 100%|██████████████████████████████| 63/63 [01:22<00:00,  1.30s/it, val_loss=123]\n"
          ]
        },
        {
          "name": "stdout",
          "output_type": "stream",
          "text": [
            "Epoch [11/40] - Train Loss: 6839.5418 - Val Loss: 5206.7237 - Val R²: -11.9267\n"
          ]
        },
        {
          "name": "stderr",
          "output_type": "stream",
          "text": [
            "Epoch 12/40 [Train]: 100%|██████████████████████████| 249/249 [18:11<00:00,  4.38s/it, loss=1.68e+3]\n",
            "Epoch 12/40 [Val]: 100%|██████████████████████████████| 63/63 [01:40<00:00,  1.59s/it, val_loss=255]\n"
          ]
        },
        {
          "name": "stdout",
          "output_type": "stream",
          "text": [
            "Epoch [12/40] - Train Loss: 4668.7708 - Val Loss: 3409.9931 - Val R²: -10.0431\n"
          ]
        },
        {
          "name": "stderr",
          "output_type": "stream",
          "text": [
            "Epoch 13/40 [Train]: 100%|██████████████████████████| 249/249 [18:05<00:00,  4.36s/it, loss=4.97e+3]\n",
            "Epoch 13/40 [Val]: 100%|██████████████████████████| 63/63 [01:25<00:00,  1.36s/it, val_loss=1.28e+3]\n"
          ]
        },
        {
          "name": "stdout",
          "output_type": "stream",
          "text": [
            "Epoch [13/40] - Train Loss: 3646.6708 - Val Loss: 2921.6734 - Val R²: -7.7108\n"
          ]
        },
        {
          "name": "stderr",
          "output_type": "stream",
          "text": [
            "Epoch 14/40 [Train]: 100%|██████████████████████████| 249/249 [17:35<00:00,  4.24s/it, loss=4.17e+3]\n",
            "Epoch 14/40 [Val]: 100%|██████████████████████████| 63/63 [01:29<00:00,  1.43s/it, val_loss=2.17e+3]\n"
          ]
        },
        {
          "name": "stdout",
          "output_type": "stream",
          "text": [
            "Epoch [14/40] - Train Loss: 3019.4426 - Val Loss: 2915.0402 - Val R²: -5.9905\n"
          ]
        },
        {
          "name": "stderr",
          "output_type": "stream",
          "text": [
            "Epoch 15/40 [Train]: 100%|███████████████████████████| 249/249 [17:38<00:00,  4.25s/it, loss=3.6e+3]\n",
            "Epoch 15/40 [Val]: 100%|██████████████████████████████| 63/63 [01:38<00:00,  1.56s/it, val_loss=104]\n"
          ]
        },
        {
          "name": "stdout",
          "output_type": "stream",
          "text": [
            "Epoch [15/40] - Train Loss: 2549.3476 - Val Loss: 1556.8764 - Val R²: -4.0799\n"
          ]
        },
        {
          "name": "stderr",
          "output_type": "stream",
          "text": [
            "Epoch 16/40 [Train]: 100%|██████████████████████████████| 249/249 [16:42<00:00,  4.03s/it, loss=445]\n",
            "Epoch 16/40 [Val]: 100%|█████████████████████████████| 63/63 [01:18<00:00,  1.24s/it, val_loss=26.2]\n"
          ]
        },
        {
          "name": "stdout",
          "output_type": "stream",
          "text": [
            "Epoch [16/40] - Train Loss: 2082.4214 - Val Loss: 1400.5898 - Val R²: -2.9098\n"
          ]
        },
        {
          "name": "stderr",
          "output_type": "stream",
          "text": [
            "Epoch 17/40 [Train]: 100%|██████████████████████████| 249/249 [19:36<00:00,  4.73s/it, loss=2.82e+3]\n",
            "Epoch 17/40 [Val]: 100%|██████████████████████████| 63/63 [01:22<00:00,  1.30s/it, val_loss=8.22e+3]\n"
          ]
        },
        {
          "name": "stdout",
          "output_type": "stream",
          "text": [
            "Epoch [17/40] - Train Loss: 1710.9652 - Val Loss: 7379.2045 - Val R²: -2.1031\n"
          ]
        },
        {
          "name": "stderr",
          "output_type": "stream",
          "text": [
            "Epoch 18/40 [Train]: 100%|██████████████████████████████| 249/249 [19:04<00:00,  4.60s/it, loss=361]\n",
            "Epoch 18/40 [Val]: 100%|█████████████████████████████| 63/63 [01:39<00:00,  1.58s/it, val_loss=36.7]\n"
          ]
        },
        {
          "name": "stdout",
          "output_type": "stream",
          "text": [
            "Epoch [18/40] - Train Loss: 1798.8408 - Val Loss: 1115.1407 - Val R²: -0.8278\n"
          ]
        },
        {
          "name": "stderr",
          "output_type": "stream",
          "text": [
            "Epoch 19/40 [Train]: 100%|██████████████████████████| 249/249 [18:12<00:00,  4.39s/it, loss=1.49e+3]\n",
            "Epoch 19/40 [Val]: 100%|██████████████████████████| 63/63 [01:27<00:00,  1.38s/it, val_loss=5.68e+3]\n"
          ]
        },
        {
          "name": "stdout",
          "output_type": "stream",
          "text": [
            "Epoch [19/40] - Train Loss: 1580.8239 - Val Loss: 5433.8996 - Val R²: -0.6810\n"
          ]
        },
        {
          "name": "stderr",
          "output_type": "stream",
          "text": [
            "Epoch 20/40 [Train]: 100%|██████████████████████████| 249/249 [18:54<00:00,  4.56s/it, loss=1.22e+3]\n",
            "Epoch 20/40 [Val]: 100%|██████████████████████████████| 63/63 [01:27<00:00,  1.39s/it, val_loss=253]\n"
          ]
        },
        {
          "name": "stdout",
          "output_type": "stream",
          "text": [
            "Epoch [20/40] - Train Loss: 1602.0198 - Val Loss: 1326.0695 - Val R²: 0.0512\n"
          ]
        },
        {
          "name": "stderr",
          "output_type": "stream",
          "text": [
            "Epoch 21/40 [Train]: 100%|██████████████████████████████| 249/249 [19:15<00:00,  4.64s/it, loss=748]\n",
            "Epoch 21/40 [Val]: 100%|██████████████████████████████| 63/63 [01:40<00:00,  1.60s/it, val_loss=742]"
          ]
        },
        {
          "name": "stdout",
          "output_type": "stream",
          "text": [
            "Epoch [21/40] - Train Loss: 1576.6546 - Val Loss: 1315.3843 - Val R²: 0.1872\n",
            "Early stopping: Validation loss did not improve.\n"
          ]
        },
        {
          "name": "stderr",
          "output_type": "stream",
          "text": [
            "\n"
          ]
        }
      ],
      "source": [
        "import torch\n",
        "import torch.nn as nn\n",
        "import torch.optim as optim\n",
        "from tqdm import tqdm\n",
        "from sklearn.metrics import r2_score\n",
        "import matplotlib.pyplot as plt\n",
        "\n",
        "device = torch.device(\"cuda\" if torch.cuda.is_available() else \"cpu\")\n",
        "\n",
        "model = DropletCNNRegressor().to(device)\n",
        "criterion = nn.MSELoss()\n",
        "optimizer = optim.Adam(model.parameters(), lr=1e-4)\n",
        "\n",
        "num_epochs = 40\n",
        "patience = 3\n",
        "\n",
        "# Early stopping and tracking\n",
        "best_val_loss = float('inf')\n",
        "patience_counter = 0\n",
        "train_losses = []\n",
        "val_losses = []\n",
        "val_r2_scores = []\n",
        "\n",
        "for epoch in range(num_epochs):\n",
        "    model.train()\n",
        "    running_loss = 0.0\n",
        "    train_bar = tqdm(train_loader, desc=f\"Epoch {epoch+1}/{num_epochs} [Train]\", ncols=100)\n",
        "\n",
        "    for images, labels in train_bar:\n",
        "        images, labels = images.to(device), labels.to(device)\n",
        "\n",
        "        optimizer.zero_grad()\n",
        "        outputs = model(images)\n",
        "        loss = criterion(outputs, labels)\n",
        "        loss.backward()\n",
        "        optimizer.step()\n",
        "\n",
        "        running_loss += loss.item()\n",
        "        train_bar.set_postfix(loss=loss.item())\n",
        "\n",
        "    avg_train_loss = running_loss / len(train_loader)\n",
        "    train_losses.append(avg_train_loss)\n",
        "\n",
        "    # Validation\n",
        "    model.eval()\n",
        "    val_loss = 0.0\n",
        "    all_preds, all_labels = [], []\n",
        "    val_bar = tqdm(test_loader, desc=f\"Epoch {epoch+1}/{num_epochs} [Val]\", leave=True, ncols=100)\n",
        "\n",
        "    with torch.no_grad():\n",
        "        for images, labels in val_bar:\n",
        "            images, labels = images.to(device), labels.to(device)\n",
        "            outputs = model(images)\n",
        "            loss = criterion(outputs, labels)\n",
        "            val_loss += loss.item()\n",
        "\n",
        "            all_preds.append(outputs.cpu().numpy())\n",
        "            all_labels.append(labels.cpu().numpy())\n",
        "            val_bar.set_postfix(val_loss=loss.item())\n",
        "\n",
        "    avg_val_loss = val_loss / len(test_loader)\n",
        "    val_losses.append(avg_val_loss)\n",
        "\n",
        "    # R^2 for this validation epoch\n",
        "    all_preds_np = np.vstack(all_preds)\n",
        "    all_labels_np = np.vstack(all_labels)\n",
        "    val_r2 = r2_score(all_labels_np, all_preds_np)\n",
        "    val_r2_scores.append(val_r2)\n",
        "\n",
        "    print(f\"Epoch [{epoch+1}/{num_epochs}] - Train Loss: {avg_train_loss:.4f} - Val Loss: {avg_val_loss:.4f} - Val R²: {val_r2:.4f}\")\n",
        "\n",
        "    if avg_val_loss < best_val_loss:\n",
        "        best_val_loss = avg_val_loss\n",
        "        patience_counter = 0\n",
        "    else:\n",
        "        patience_counter += 1\n",
        "        if patience_counter >= patience:\n",
        "            print(\"Early stopping: Validation loss did not improve.\")\n",
        "            break\n"
      ]
    },
    {
      "cell_type": "code",
      "execution_count": null,
      "id": "4e82dd65",
      "metadata": {
        "colab": {
          "base_uri": "https://localhost:8080/"
        },
        "id": "4e82dd65",
        "outputId": "71ee944d-0acc-4c3c-b7d5-a0b2f459947c"
      },
      "outputs": [
        {
          "name": "stdout",
          "output_type": "stream",
          "text": [
            "Model saved to /content/drive/MyDrive/Pi2/droplet_cnn_regressor.pth\n"
          ]
        }
      ],
      "source": [
        "MODEL_SAVE_PATH = \"droplet_cnn_regressor.pth\"\n",
        "torch.save(model.state_dict(), MODEL_SAVE_PATH)\n",
        "print(f\"Model saved to {MODEL_SAVE_PATH}\")"
      ]
    },
    {
      "cell_type": "markdown",
      "id": "83acc9e0",
      "metadata": {
        "id": "83acc9e0"
      },
      "source": [
        "## Evaluating the model"
      ]
    },
    {
      "cell_type": "code",
      "execution_count": 16,
      "id": "551fdd17",
      "metadata": {
        "colab": {
          "base_uri": "https://localhost:8080/"
        },
        "id": "551fdd17",
        "outputId": "2c1a3b48-77ea-4ca0-91ec-242332fa7e9e"
      },
      "outputs": [
        {
          "name": "stdout",
          "output_type": "stream",
          "text": [
            "\n",
            "Final Evaluation:\n",
            "  MAE  = 12.1089\n",
            "  MSE  = 1323.4630\n",
            "  R²   = 0.1872\n",
            "\n",
            "Sample Predictions (3 random examples):\n",
            "\n",
            "Example 988:\n",
            "  Ground truth : [ 1.1984e+02  1.1979e+02  6.4824e+04  3.9406e+02  2.7031e+02  1.6050e+02\n",
            "  1.4897e+02 -6.5000e-01  2.3200e+02  1.2100e+02  3.2400e+02  2.4000e+02]\n",
            "  Prediction   : [1.194300e+02 1.192600e+02 6.494104e+04 3.967300e+02 2.633100e+02\n",
            " 1.589100e+02 1.482800e+02 1.900000e+00 2.311700e+02 1.191700e+02\n",
            " 3.236200e+02 2.409300e+02]\n",
            "\n",
            "Example 760:\n",
            "  Ground truth : [ 1.2178e+02  1.2274e+02  7.9083e+04  3.9699e+02  2.5133e+02  1.7467e+02\n",
            "  1.6044e+02 -9.8000e-01  2.2100e+02  9.1000e+01  3.5100e+02  2.7000e+02]\n",
            "  Prediction   : [1.142900e+02 1.219200e+02 7.926912e+04 4.000800e+02 2.545500e+02\n",
            " 1.698400e+02 1.561900e+02 3.110000e+00 2.234600e+02 8.731000e+01\n",
            " 3.479200e+02 2.669600e+02]\n",
            "\n",
            "Example 154:\n",
            "  Ground truth : [1.2248e+02 1.2279e+02 5.3599e+04 4.2881e+02 2.7168e+02 1.4264e+02\n",
            " 1.3371e+02 4.3400e+00 2.8500e+02 1.3800e+02 2.8700e+02 2.2300e+02]\n",
            "  Prediction   : [1.224900e+02 1.255700e+02 5.391055e+04 4.452400e+02 2.732300e+02\n",
            " 1.234200e+02 1.093800e+02 9.690000e+00 2.682600e+02 1.405900e+02\n",
            " 2.895000e+02 1.700200e+02]\n"
          ]
        }
      ],
      "source": [
        "from sklearn.metrics import mean_absolute_error, mean_squared_error, r2_score\n",
        "import random\n",
        "\n",
        "model.eval()\n",
        "all_preds = []\n",
        "all_targets = []\n",
        "\n",
        "with torch.no_grad():\n",
        "    for images, labels in test_loader:\n",
        "        images = images.to(device)\n",
        "        outputs = model(images).cpu().numpy()\n",
        "        labels = labels.cpu().numpy()\n",
        "\n",
        "        all_preds.append(outputs)\n",
        "        all_targets.append(labels)\n",
        "\n",
        "all_preds = np.vstack(all_preds)\n",
        "all_targets = np.vstack(all_targets)\n",
        "\n",
        "mae = mean_absolute_error(all_targets, all_preds)\n",
        "mse = mean_squared_error(all_targets, all_preds)\n",
        "r2 = r2_score(all_targets, all_preds)\n",
        "\n",
        "print(f\"\\nFinal Evaluation:\")\n",
        "print(f\"  MAE  = {mae:.4f}\")\n",
        "print(f\"  MSE  = {mse:.4f}\")\n",
        "print(f\"  R²   = {r2:.4f}\")\n",
        "\n",
        "print(\"\\nSample Predictions (3 random examples):\")\n",
        "indices = random.sample(range(len(all_targets)), 3)\n",
        "for i in indices:\n",
        "    print(f\"\\nExample {i+1}:\")\n",
        "    print(f\"  Ground truth : {np.round(all_targets[i], 2)}\")\n",
        "    print(f\"  Prediction   : {np.round(all_preds[i], 2)}\")\n"
      ]
    },
    {
      "cell_type": "markdown",
      "id": "2b9Bt16muv8P",
      "metadata": {
        "id": "2b9Bt16muv8P"
      },
      "source": [
        "## Plotting"
      ]
    },
    {
      "cell_type": "code",
      "execution_count": 17,
      "id": "6jsbhL9auxtH",
      "metadata": {
        "colab": {
          "base_uri": "https://localhost:8080/",
          "height": 465
        },
        "id": "6jsbhL9auxtH",
        "outputId": "556918b7-3359-4604-88ce-0fe22932e086"
      },
      "outputs": [
        {
          "data": {
            "image/png": "[encoded data removed]",
            "text/plain": [
              "<Figure size 1200x500 with 2 Axes>"
            ]
          },
          "metadata": {},
          "output_type": "display_data"
        }
      ],
      "source": [
        "plt.figure(figsize=(12, 5))\n",
        "\n",
        "plt.subplot(1, 2, 1)\n",
        "plt.plot(train_losses, label='Train MSE')\n",
        "plt.plot(val_losses, label='Val MSE')\n",
        "plt.xlabel(\"Epoch\")\n",
        "plt.ylabel(\"MSE Loss\")\n",
        "plt.title(\"Training and Validation MSE Loss\")\n",
        "plt.legend()\n",
        "\n",
        "plt.subplot(1, 2, 2)\n",
        "plt.plot(val_r2_scores, label='Val R²', color='green')\n",
        "plt.xlabel(\"Epoch\")\n",
        "plt.ylabel(\"R² Score\")\n",
        "plt.title(\"Validation R² Score per Epoch\")\n",
        "plt.legend()\n",
        "\n",
        "plt.tight_layout()\n",
        "plt.show()"
      ]
    }
  ],
  "metadata": {
    "colab": {
      "provenance": []
    },
    "kernelspec": {
      "display_name": ".venv",
      "language": "python",
      "name": "python3"
    },
    "language_info": {
      "codemirror_mode": {
        "name": "ipython",
        "version": 3
      },
      "file_extension": ".py",
      "mimetype": "text/x-python",
      "name": "python",
      "nbconvert_exporter": "python",
      "pygments_lexer": "ipython3",
      "version": "3.11.8"
    }
  },
  "nbformat": 4,
  "nbformat_minor": 5
}
